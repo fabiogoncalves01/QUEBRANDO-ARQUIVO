import os
import re
from openpyxl import load_workbook

# Caminho do arquivo Excel
NOME_ARQUIVO = " "

# Carregar o arquivo Excel
def carregar_planilha(caminho_arquivo):
    return load_workbook(filename=caminho_arquivo)

# Remover caracteres inválidos e limitar o nome da aba a 31 caracteres
def limpar_nome_aba(nome):
    if nome is None:
        return "Sem_Nome"
    return re.sub(r'[\\/*?:[\]]', '', nome)[:31]

# Criar uma nova aba ou retornar uma aba existente com o nome do instrutor
def obter_ou_criar_aba(workbook, nome_aba):
    if nome_aba in workbook.sheetnames:
        return workbook[nome_aba]
    nova_aba = workbook.create_sheet(title=nome_aba)
    adicionar_titulos(nova_aba)
    return nova_aba

# Adicionar os títulos das colunas na aba
def adicionar_titulos(aba):
    aba['A1'] = "Data"
    aba['B1'] = "Horário de Início"
    aba['C1'] = "Horário de Fim"
    aba['D1'] = "Turma"

# Preencher a aba com os dados do instrutor
def preencher_aba(aba, dados):
    linha = len(aba['A']) + 1  # Encontrar a próxima linha disponível
    aba[f"A{linha}"] = dados['data']
    aba[f"B{linha}"] = dados['inicio']
    aba[f"C{linha}"] = dados['fim']
    aba[f"D{linha}"] = dados['turma']

# Extrair os dados de uma linha da planilha principal
def extrair_dados_linha(sheet, linha):
    return {
        'data': sheet[f"A{linha}"].value,
        'inicio': sheet[f"C{linha}"].value,
        'fim': sheet[f"D{linha}"].value,
        'turma': sheet[f"E{linha}"].value
    }

# Função principal que processa a planilha e organiza os dados dos instrutores
def processar_planilha(nome_arquivo):
    workbook = carregar_planilha(nome_arquivo)
    sheet_principal = workbook.active
    
    for linha in range(2, len(sheet_principal['F']) + 1):
        nome_instrutor = limpar_nome_aba(sheet_principal[f'F{linha}'].value)
        aba_instrutor = obter_ou_criar_aba(workbook, nome_instrutor)
        dados_instrutor = extrair_dados_linha(sheet_principal, linha)
        preencher_aba(aba_instrutor, dados_instrutor)

    workbook.save(filename=nome_arquivo)
    os.startfile(nome_arquivo)

# Executar o processamento da planilha
processar_planilha(NOME_ARQUIVO)
